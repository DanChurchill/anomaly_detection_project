{
 "cells": [
  {
   "cell_type": "code",
   "execution_count": 1,
   "id": "6c86be5d",
   "metadata": {},
   "outputs": [],
   "source": [
    "import seaborn as sns\n",
    "import numpy as np\n",
    "import pandas as pd\n",
    "import wrangle\n",
    "import matplotlib.pyplot as plt"
   ]
  },
  {
   "cell_type": "markdown",
   "id": "ee827a68",
   "metadata": {},
   "source": [
    "## The Objective of this notebook is to show the work used to answer questions contained in an email concerning access to the Codeup curriculum. "
   ]
  },
  {
   "cell_type": "code",
   "execution_count": 2,
   "id": "07c30d77",
   "metadata": {},
   "outputs": [],
   "source": [
    "### custom functions to acquire data\n",
    "df = wrangle.wrangle_logs()"
   ]
  },
  {
   "cell_type": "code",
   "execution_count": 3,
   "id": "650473fb",
   "metadata": {},
   "outputs": [
    {
     "data": {
      "text/html": [
       "<div>\n",
       "<style scoped>\n",
       "    .dataframe tbody tr th:only-of-type {\n",
       "        vertical-align: middle;\n",
       "    }\n",
       "\n",
       "    .dataframe tbody tr th {\n",
       "        vertical-align: top;\n",
       "    }\n",
       "\n",
       "    .dataframe thead th {\n",
       "        text-align: right;\n",
       "    }\n",
       "</style>\n",
       "<table border=\"1\" class=\"dataframe\">\n",
       "  <thead>\n",
       "    <tr style=\"text-align: right;\">\n",
       "      <th></th>\n",
       "      <th>date</th>\n",
       "      <th>time</th>\n",
       "      <th>page</th>\n",
       "      <th>id</th>\n",
       "      <th>cohort</th>\n",
       "      <th>ip</th>\n",
       "      <th>start_date</th>\n",
       "      <th>end_date</th>\n",
       "      <th>program_id</th>\n",
       "      <th>active</th>\n",
       "    </tr>\n",
       "  </thead>\n",
       "  <tbody>\n",
       "    <tr>\n",
       "      <th>0</th>\n",
       "      <td>2018-01-26</td>\n",
       "      <td>09:55:03</td>\n",
       "      <td>/</td>\n",
       "      <td>1</td>\n",
       "      <td>8.0</td>\n",
       "      <td>97.105.19.61</td>\n",
       "      <td>2015-09-22</td>\n",
       "      <td>2016-02-06</td>\n",
       "      <td>1.0</td>\n",
       "      <td>0</td>\n",
       "    </tr>\n",
       "    <tr>\n",
       "      <th>1</th>\n",
       "      <td>2018-01-26</td>\n",
       "      <td>09:56:02</td>\n",
       "      <td>java-ii</td>\n",
       "      <td>1</td>\n",
       "      <td>8.0</td>\n",
       "      <td>97.105.19.61</td>\n",
       "      <td>2015-09-22</td>\n",
       "      <td>2016-02-06</td>\n",
       "      <td>1.0</td>\n",
       "      <td>0</td>\n",
       "    </tr>\n",
       "    <tr>\n",
       "      <th>2</th>\n",
       "      <td>2018-01-26</td>\n",
       "      <td>09:56:05</td>\n",
       "      <td>java-ii/object-oriented-programming</td>\n",
       "      <td>1</td>\n",
       "      <td>8.0</td>\n",
       "      <td>97.105.19.61</td>\n",
       "      <td>2015-09-22</td>\n",
       "      <td>2016-02-06</td>\n",
       "      <td>1.0</td>\n",
       "      <td>0</td>\n",
       "    </tr>\n",
       "    <tr>\n",
       "      <th>3</th>\n",
       "      <td>2018-01-26</td>\n",
       "      <td>09:56:06</td>\n",
       "      <td>slides/object_oriented_programming</td>\n",
       "      <td>1</td>\n",
       "      <td>8.0</td>\n",
       "      <td>97.105.19.61</td>\n",
       "      <td>2015-09-22</td>\n",
       "      <td>2016-02-06</td>\n",
       "      <td>1.0</td>\n",
       "      <td>0</td>\n",
       "    </tr>\n",
       "    <tr>\n",
       "      <th>4</th>\n",
       "      <td>2018-01-26</td>\n",
       "      <td>09:56:24</td>\n",
       "      <td>javascript-i/conditionals</td>\n",
       "      <td>2</td>\n",
       "      <td>22.0</td>\n",
       "      <td>97.105.19.61</td>\n",
       "      <td>2018-01-08</td>\n",
       "      <td>2018-05-17</td>\n",
       "      <td>2.0</td>\n",
       "      <td>1</td>\n",
       "    </tr>\n",
       "  </tbody>\n",
       "</table>\n",
       "</div>"
      ],
      "text/plain": [
       "        date      time                                 page  id  cohort  \\\n",
       "0 2018-01-26  09:55:03                                    /   1     8.0   \n",
       "1 2018-01-26  09:56:02                              java-ii   1     8.0   \n",
       "2 2018-01-26  09:56:05  java-ii/object-oriented-programming   1     8.0   \n",
       "3 2018-01-26  09:56:06   slides/object_oriented_programming   1     8.0   \n",
       "4 2018-01-26  09:56:24            javascript-i/conditionals   2    22.0   \n",
       "\n",
       "             ip start_date   end_date  program_id  active  \n",
       "0  97.105.19.61 2015-09-22 2016-02-06         1.0       0  \n",
       "1  97.105.19.61 2015-09-22 2016-02-06         1.0       0  \n",
       "2  97.105.19.61 2015-09-22 2016-02-06         1.0       0  \n",
       "3  97.105.19.61 2015-09-22 2016-02-06         1.0       0  \n",
       "4  97.105.19.61 2018-01-08 2018-05-17         2.0       1  "
      ]
     },
     "execution_count": 3,
     "metadata": {},
     "output_type": "execute_result"
    }
   ],
   "source": [
    "df.head()"
   ]
  },
  {
   "cell_type": "markdown",
   "id": "32ec1857",
   "metadata": {},
   "source": [
    "## Summary of data acquisition\n",
    "\n",
    "- Load access logs from .txt file contained in the email\n",
    "- Load cohort information from SQL database\n",
    "- Merge tables and convert dates from strings to datetime objects\n",
    "- Created an 'active' column that says whether the page was viewed while the student was active in the program"
   ]
  },
  {
   "cell_type": "markdown",
   "id": "f09902e9",
   "metadata": {},
   "source": [
    "# 1. Which lesson appears to attract the most traffic consistently across cohorts (per program)?\n"
   ]
  },
  {
   "cell_type": "code",
   "execution_count": 4,
   "id": "1a998b8a",
   "metadata": {},
   "outputs": [],
   "source": [
    "# using codeup/alumni I was able to determine that program 3\n",
    "# is datascience, programs 1,2 & 4 are/were webdev\n",
    "\n",
    "# create separate dataframes for web and DS\n",
    "web = df[df.program_id != 3]\n",
    "ds = df[df.program_id == 3]"
   ]
  },
  {
   "cell_type": "code",
   "execution_count": 5,
   "id": "32f14544",
   "metadata": {},
   "outputs": [
    {
     "data": {
      "text/plain": [
       "/                           41955\n",
       "javascript-i                18973\n",
       "toc                         18286\n",
       "search/search_index.json    17316\n",
       "java-iii                    13729\n",
       "html-css                    13619\n",
       "java-ii                     12681\n",
       "spring                      12518\n",
       "jquery                      11521\n",
       "mysql                       11024\n",
       "Name: page, dtype: int64"
      ]
     },
     "execution_count": 5,
     "metadata": {},
     "output_type": "execute_result"
    }
   ],
   "source": [
    "# program 3 is datascience, programs 1,2 & 4 are webdev\n",
    "# check webdev first:\n",
    "web.page.value_counts().head(10)"
   ]
  },
  {
   "cell_type": "markdown",
   "id": "43fb4be5",
   "metadata": {},
   "source": [
    "#### Top lesson for web dev is Javascript-i"
   ]
  },
  {
   "cell_type": "code",
   "execution_count": 6,
   "id": "f90293c6",
   "metadata": {},
   "outputs": [
    {
     "data": {
      "text/plain": [
       "/                                           8358\n",
       "search/search_index.json                    2203\n",
       "classification/overview                     1785\n",
       "1-fundamentals/modern-data-scientist.jpg    1655\n",
       "1-fundamentals/AI-ML-DL-timeline.jpg        1651\n",
       "1-fundamentals/1.1-intro-to-data-science    1633\n",
       "classification/scale_features_or_not.svg    1590\n",
       "fundamentals/AI-ML-DL-timeline.jpg          1443\n",
       "fundamentals/modern-data-scientist.jpg      1438\n",
       "sql/mysql-overview                          1424\n",
       "Name: page, dtype: int64"
      ]
     },
     "execution_count": 6,
     "metadata": {},
     "output_type": "execute_result"
    }
   ],
   "source": [
    "ds.page.value_counts().head(10)"
   ]
  },
  {
   "cell_type": "markdown",
   "id": "42471059",
   "metadata": {},
   "source": [
    "#### Top lesson for Data Science is The Classification overview"
   ]
  },
  {
   "cell_type": "markdown",
   "id": "0916cfc7",
   "metadata": {},
   "source": [
    "# 2. Is there a cohort that referred to a lesson significantly more than other cohorts seemed to gloss over?\n"
   ]
  },
  {
   "cell_type": "code",
   "execution_count": 8,
   "id": "8fd81bb5",
   "metadata": {},
   "outputs": [],
   "source": [
    "counts = pd.DataFrame(web.groupby(['page','cohort'])['date'].count()).sort_values('date', ascending=False)"
   ]
  },
  {
   "cell_type": "code",
   "execution_count": 9,
   "id": "5c51a6e1",
   "metadata": {},
   "outputs": [
    {
     "data": {
      "text/html": [
       "<div>\n",
       "<style scoped>\n",
       "    .dataframe tbody tr th:only-of-type {\n",
       "        vertical-align: middle;\n",
       "    }\n",
       "\n",
       "    .dataframe tbody tr th {\n",
       "        vertical-align: top;\n",
       "    }\n",
       "\n",
       "    .dataframe thead th {\n",
       "        text-align: right;\n",
       "    }\n",
       "</style>\n",
       "<table border=\"1\" class=\"dataframe\">\n",
       "  <thead>\n",
       "    <tr style=\"text-align: right;\">\n",
       "      <th></th>\n",
       "      <th></th>\n",
       "      <th>date</th>\n",
       "    </tr>\n",
       "    <tr>\n",
       "      <th>page</th>\n",
       "      <th>cohort</th>\n",
       "      <th></th>\n",
       "    </tr>\n",
       "  </thead>\n",
       "  <tbody>\n",
       "    <tr>\n",
       "      <th rowspan=\"3\" valign=\"top\">/</th>\n",
       "      <th>28.0</th>\n",
       "      <td>6340</td>\n",
       "    </tr>\n",
       "    <tr>\n",
       "      <th>24.0</th>\n",
       "      <td>2101</td>\n",
       "    </tr>\n",
       "    <tr>\n",
       "      <th>53.0</th>\n",
       "      <td>2038</td>\n",
       "    </tr>\n",
       "    <tr>\n",
       "      <th>toc</th>\n",
       "      <th>62.0</th>\n",
       "      <td>1866</td>\n",
       "    </tr>\n",
       "    <tr>\n",
       "      <th>/</th>\n",
       "      <th>22.0</th>\n",
       "      <td>1828</td>\n",
       "    </tr>\n",
       "    <tr>\n",
       "      <th>...</th>\n",
       "      <th>...</th>\n",
       "      <td>...</td>\n",
       "    </tr>\n",
       "    <tr>\n",
       "      <th>content/php_ii/control-structures-i/if.html</th>\n",
       "      <th>22.0</th>\n",
       "      <td>1</td>\n",
       "    </tr>\n",
       "    <tr>\n",
       "      <th rowspan=\"3\" valign=\"top\">content/php_ii/control-structures-i/while.html</th>\n",
       "      <th>2.0</th>\n",
       "      <td>1</td>\n",
       "    </tr>\n",
       "    <tr>\n",
       "      <th>18.0</th>\n",
       "      <td>1</td>\n",
       "    </tr>\n",
       "    <tr>\n",
       "      <th>21.0</th>\n",
       "      <td>1</td>\n",
       "    </tr>\n",
       "    <tr>\n",
       "      <th>wp-login</th>\n",
       "      <th>22.0</th>\n",
       "      <td>1</td>\n",
       "    </tr>\n",
       "  </tbody>\n",
       "</table>\n",
       "<p>11802 rows × 1 columns</p>\n",
       "</div>"
      ],
      "text/plain": [
       "                                                       date\n",
       "page                                           cohort      \n",
       "/                                              28.0    6340\n",
       "                                               24.0    2101\n",
       "                                               53.0    2038\n",
       "toc                                            62.0    1866\n",
       "/                                              22.0    1828\n",
       "...                                                     ...\n",
       "content/php_ii/control-structures-i/if.html    22.0       1\n",
       "content/php_ii/control-structures-i/while.html 2.0        1\n",
       "                                               18.0       1\n",
       "                                               21.0       1\n",
       "wp-login                                       22.0       1\n",
       "\n",
       "[11802 rows x 1 columns]"
      ]
     },
     "execution_count": 9,
     "metadata": {},
     "output_type": "execute_result"
    }
   ],
   "source": [
    "counts"
   ]
  },
  {
   "cell_type": "code",
   "execution_count": 10,
   "id": "f258dd6a",
   "metadata": {},
   "outputs": [],
   "source": [
    "page_given_cohort = (\n",
    "    web.groupby('cohort')\n",
    "    .page.value_counts(normalize=True)\n",
    "    .rename('proba_page_given_cohort')\n",
    "    .reset_index()\n",
    ").sort_values('proba_page_given_cohort', ascending=False)\n"
   ]
  },
  {
   "cell_type": "code",
   "execution_count": 12,
   "id": "9a72d7ac",
   "metadata": {},
   "outputs": [
    {
     "data": {
      "text/plain": [
       "390                                      /\n",
       "857                       content/html-css\n",
       "388                      prework/databases\n",
       "386                                      /\n",
       "389              prework/versioning/github\n",
       "                       ...                \n",
       "7104             4-stats/2.6-compare-means\n",
       "7105               4-stats/2.7-correlation\n",
       "7106                               5-stats\n",
       "7107           5-stats/1-descriptive-stats\n",
       "7131    8-clustering/End_to_End_Clustering\n",
       "Name: page, Length: 11802, dtype: object"
      ]
     },
     "execution_count": 12,
     "metadata": {},
     "output_type": "execute_result"
    }
   ],
   "source": [
    "page_given_cohort['page']"
   ]
  },
  {
   "cell_type": "code",
   "execution_count": 13,
   "id": "0387df7e",
   "metadata": {},
   "outputs": [
    {
     "data": {
      "text/html": [
       "<div>\n",
       "<style scoped>\n",
       "    .dataframe tbody tr th:only-of-type {\n",
       "        vertical-align: middle;\n",
       "    }\n",
       "\n",
       "    .dataframe tbody tr th {\n",
       "        vertical-align: top;\n",
       "    }\n",
       "\n",
       "    .dataframe thead th {\n",
       "        text-align: right;\n",
       "    }\n",
       "</style>\n",
       "<table border=\"1\" class=\"dataframe\">\n",
       "  <thead>\n",
       "    <tr style=\"text-align: right;\">\n",
       "      <th></th>\n",
       "      <th>cohort</th>\n",
       "      <th>page</th>\n",
       "      <th>proba_page_given_cohort</th>\n",
       "    </tr>\n",
       "  </thead>\n",
       "  <tbody>\n",
       "    <tr>\n",
       "      <th>2139</th>\n",
       "      <td>16.0</td>\n",
       "      <td>spring</td>\n",
       "      <td>0.086093</td>\n",
       "    </tr>\n",
       "    <tr>\n",
       "      <th>3265</th>\n",
       "      <td>21.0</td>\n",
       "      <td>spring</td>\n",
       "      <td>0.048898</td>\n",
       "    </tr>\n",
       "    <tr>\n",
       "      <th>402</th>\n",
       "      <td>6.0</td>\n",
       "      <td>spring</td>\n",
       "      <td>0.027778</td>\n",
       "    </tr>\n",
       "    <tr>\n",
       "      <th>2661</th>\n",
       "      <td>18.0</td>\n",
       "      <td>spring</td>\n",
       "      <td>0.025950</td>\n",
       "    </tr>\n",
       "    <tr>\n",
       "      <th>584</th>\n",
       "      <td>8.0</td>\n",
       "      <td>spring</td>\n",
       "      <td>0.025117</td>\n",
       "    </tr>\n",
       "  </tbody>\n",
       "</table>\n",
       "</div>"
      ],
      "text/plain": [
       "      cohort    page  proba_page_given_cohort\n",
       "2139    16.0  spring                 0.086093\n",
       "3265    21.0  spring                 0.048898\n",
       "402      6.0  spring                 0.027778\n",
       "2661    18.0  spring                 0.025950\n",
       "584      8.0  spring                 0.025117"
      ]
     },
     "execution_count": 13,
     "metadata": {},
     "output_type": "execute_result"
    }
   ],
   "source": [
    "page_given_cohort[page_given_cohort.page == 'spring'].head()"
   ]
  },
  {
   "cell_type": "markdown",
   "id": "2b370d83",
   "metadata": {},
   "source": [
    "#### In WebDev cohort 28's pageviews for spring were nearly double that of the next highest cohort"
   ]
  },
  {
   "cell_type": "markdown",
   "id": "f974fe27",
   "metadata": {},
   "source": [
    "# 3. Are there students who, when active, hardly access the curriculum? If so, what information do you have about these students?"
   ]
  },
  {
   "cell_type": "code",
   "execution_count": 101,
   "id": "351ccedf",
   "metadata": {},
   "outputs": [],
   "source": [
    "active = df[df.active == 1]"
   ]
  },
  {
   "cell_type": "code",
   "execution_count": 107,
   "id": "756b941c",
   "metadata": {},
   "outputs": [
    {
     "data": {
      "text/plain": [
       "978    55\n",
       "46     54\n",
       "543    53\n",
       "56     52\n",
       "960    48\n",
       "964    45\n",
       "971    44\n",
       "371    42\n",
       "981    42\n",
       "959    41\n",
       "967    41\n",
       "529    36\n",
       "973    35\n",
       "972    34\n",
       "976    29\n",
       "41     28\n",
       "24     26\n",
       "772    26\n",
       "64     25\n",
       "49     25\n",
       "961    20\n",
       "340    18\n",
       "963    18\n",
       "968    17\n",
       "487    17\n",
       "889    16\n",
       "697    13\n",
       "572    12\n",
       "941    12\n",
       "679    11\n",
       "388     8\n",
       "812     7\n",
       "956     6\n",
       "539     5\n",
       "278     4\n",
       "832     3\n",
       "879     1\n",
       "940     1\n",
       "918     1\n",
       "619     1\n",
       "Name: id, dtype: int64"
      ]
     },
     "execution_count": 107,
     "metadata": {},
     "output_type": "execute_result"
    }
   ],
   "source": [
    "active.id.value_counts().tail(40)"
   ]
  },
  {
   "cell_type": "code",
   "execution_count": 115,
   "id": "7b525028",
   "metadata": {},
   "outputs": [
    {
     "data": {
      "text/plain": [
       "107    8\n",
       "388    8\n",
       "104    8\n",
       "401    7\n",
       "115    6\n",
       "956    6\n",
       "152    5\n",
       "169    5\n",
       "399    5\n",
       "82     5\n",
       "71     5\n",
       "85     4\n",
       "857    4\n",
       "216    4\n",
       "246    4\n",
       "62     4\n",
       "980    3\n",
       "832    3\n",
       "81     3\n",
       "89     3\n",
       "348    3\n",
       "176    3\n",
       "177    3\n",
       "852    2\n",
       "97     2\n",
       "573    2\n",
       "574    2\n",
       "649    1\n",
       "940    1\n",
       "165    1\n",
       "879    1\n",
       "652    1\n",
       "592    1\n",
       "619    1\n",
       "593    1\n",
       "66     1\n",
       "163    1\n",
       "918    1\n",
       "212    1\n",
       "952    1\n",
       "Name: id, dtype: int64"
      ]
     },
     "execution_count": 115,
     "metadata": {},
     "output_type": "execute_result"
    }
   ],
   "source": [
    "df.id.value_counts().tail(40)"
   ]
  },
  {
   "cell_type": "code",
   "execution_count": 119,
   "id": "fc235481",
   "metadata": {},
   "outputs": [
    {
     "data": {
      "text/html": [
       "<div>\n",
       "<style scoped>\n",
       "    .dataframe tbody tr th:only-of-type {\n",
       "        vertical-align: middle;\n",
       "    }\n",
       "\n",
       "    .dataframe tbody tr th {\n",
       "        vertical-align: top;\n",
       "    }\n",
       "\n",
       "    .dataframe thead th {\n",
       "        text-align: right;\n",
       "    }\n",
       "</style>\n",
       "<table border=\"1\" class=\"dataframe\">\n",
       "  <thead>\n",
       "    <tr style=\"text-align: right;\">\n",
       "      <th></th>\n",
       "      <th>date</th>\n",
       "      <th>time</th>\n",
       "      <th>page</th>\n",
       "      <th>id</th>\n",
       "      <th>cohort</th>\n",
       "      <th>ip</th>\n",
       "      <th>start_date</th>\n",
       "      <th>end_date</th>\n",
       "      <th>program_id</th>\n",
       "      <th>active</th>\n",
       "    </tr>\n",
       "  </thead>\n",
       "  <tbody>\n",
       "    <tr>\n",
       "      <th>221780</th>\n",
       "      <td>2019-03-19</td>\n",
       "      <td>09:50:19</td>\n",
       "      <td>/</td>\n",
       "      <td>388</td>\n",
       "      <td>31.0</td>\n",
       "      <td>97.105.19.58</td>\n",
       "      <td>2019-03-18</td>\n",
       "      <td>2019-07-30</td>\n",
       "      <td>2.0</td>\n",
       "      <td>1</td>\n",
       "    </tr>\n",
       "    <tr>\n",
       "      <th>221782</th>\n",
       "      <td>2019-03-19</td>\n",
       "      <td>09:50:23</td>\n",
       "      <td>html-css</td>\n",
       "      <td>388</td>\n",
       "      <td>31.0</td>\n",
       "      <td>97.105.19.58</td>\n",
       "      <td>2019-03-18</td>\n",
       "      <td>2019-07-30</td>\n",
       "      <td>2.0</td>\n",
       "      <td>1</td>\n",
       "    </tr>\n",
       "    <tr>\n",
       "      <th>221784</th>\n",
       "      <td>2019-03-19</td>\n",
       "      <td>09:50:28</td>\n",
       "      <td>html-css/elements</td>\n",
       "      <td>388</td>\n",
       "      <td>31.0</td>\n",
       "      <td>97.105.19.58</td>\n",
       "      <td>2019-03-18</td>\n",
       "      <td>2019-07-30</td>\n",
       "      <td>2.0</td>\n",
       "      <td>1</td>\n",
       "    </tr>\n",
       "    <tr>\n",
       "      <th>221827</th>\n",
       "      <td>2019-03-19</td>\n",
       "      <td>10:04:11</td>\n",
       "      <td>html-css/elements</td>\n",
       "      <td>388</td>\n",
       "      <td>31.0</td>\n",
       "      <td>97.105.19.58</td>\n",
       "      <td>2019-03-18</td>\n",
       "      <td>2019-07-30</td>\n",
       "      <td>2.0</td>\n",
       "      <td>1</td>\n",
       "    </tr>\n",
       "    <tr>\n",
       "      <th>221841</th>\n",
       "      <td>2019-03-19</td>\n",
       "      <td>10:19:32</td>\n",
       "      <td>html-css/elements</td>\n",
       "      <td>388</td>\n",
       "      <td>31.0</td>\n",
       "      <td>97.105.19.58</td>\n",
       "      <td>2019-03-18</td>\n",
       "      <td>2019-07-30</td>\n",
       "      <td>2.0</td>\n",
       "      <td>1</td>\n",
       "    </tr>\n",
       "    <tr>\n",
       "      <th>221951</th>\n",
       "      <td>2019-03-19</td>\n",
       "      <td>11:11:51</td>\n",
       "      <td>html-css/forms</td>\n",
       "      <td>388</td>\n",
       "      <td>31.0</td>\n",
       "      <td>97.105.19.58</td>\n",
       "      <td>2019-03-18</td>\n",
       "      <td>2019-07-30</td>\n",
       "      <td>2.0</td>\n",
       "      <td>1</td>\n",
       "    </tr>\n",
       "    <tr>\n",
       "      <th>221952</th>\n",
       "      <td>2019-03-19</td>\n",
       "      <td>11:12:02</td>\n",
       "      <td>html-css/elements</td>\n",
       "      <td>388</td>\n",
       "      <td>31.0</td>\n",
       "      <td>97.105.19.58</td>\n",
       "      <td>2019-03-18</td>\n",
       "      <td>2019-07-30</td>\n",
       "      <td>2.0</td>\n",
       "      <td>1</td>\n",
       "    </tr>\n",
       "    <tr>\n",
       "      <th>222154</th>\n",
       "      <td>2019-03-19</td>\n",
       "      <td>12:19:23</td>\n",
       "      <td>html-css/elements</td>\n",
       "      <td>388</td>\n",
       "      <td>31.0</td>\n",
       "      <td>97.105.19.58</td>\n",
       "      <td>2019-03-18</td>\n",
       "      <td>2019-07-30</td>\n",
       "      <td>2.0</td>\n",
       "      <td>1</td>\n",
       "    </tr>\n",
       "  </tbody>\n",
       "</table>\n",
       "</div>"
      ],
      "text/plain": [
       "             date      time               page   id  cohort            ip  \\\n",
       "221780 2019-03-19  09:50:19                  /  388    31.0  97.105.19.58   \n",
       "221782 2019-03-19  09:50:23           html-css  388    31.0  97.105.19.58   \n",
       "221784 2019-03-19  09:50:28  html-css/elements  388    31.0  97.105.19.58   \n",
       "221827 2019-03-19  10:04:11  html-css/elements  388    31.0  97.105.19.58   \n",
       "221841 2019-03-19  10:19:32  html-css/elements  388    31.0  97.105.19.58   \n",
       "221951 2019-03-19  11:11:51     html-css/forms  388    31.0  97.105.19.58   \n",
       "221952 2019-03-19  11:12:02  html-css/elements  388    31.0  97.105.19.58   \n",
       "222154 2019-03-19  12:19:23  html-css/elements  388    31.0  97.105.19.58   \n",
       "\n",
       "       start_date   end_date  program_id  active  \n",
       "221780 2019-03-18 2019-07-30         2.0       1  \n",
       "221782 2019-03-18 2019-07-30         2.0       1  \n",
       "221784 2019-03-18 2019-07-30         2.0       1  \n",
       "221827 2019-03-18 2019-07-30         2.0       1  \n",
       "221841 2019-03-18 2019-07-30         2.0       1  \n",
       "221951 2019-03-18 2019-07-30         2.0       1  \n",
       "221952 2019-03-18 2019-07-30         2.0       1  \n",
       "222154 2019-03-18 2019-07-30         2.0       1  "
      ]
     },
     "execution_count": 119,
     "metadata": {},
     "output_type": "execute_result"
    }
   ],
   "source": [
    "df[df.id == 388]"
   ]
  },
  {
   "cell_type": "markdown",
   "id": "f092c137",
   "metadata": {},
   "source": [
    "#### The 20 active students who accessed the curriculum the least accessed curriculum on their cohort's start date, possibly for a few days after, and then do not access again.  They also do not have any access attempts while inactive."
   ]
  },
  {
   "cell_type": "markdown",
   "id": "315cb157",
   "metadata": {},
   "source": [
    "# 4. Is there any suspicious activity, such as users/machines/etc accessing the curriculum who shouldn’t be? Does it appear that any web-scraping is happening? Are there any suspicious IP addresses?\n"
   ]
  },
  {
   "cell_type": "code",
   "execution_count": 195,
   "id": "f6a73ad4",
   "metadata": {},
   "outputs": [],
   "source": [
    "def compute_pct_b(pages, span, weight, user):\n",
    "    midband = pages.ewm(span=span).mean()\n",
    "    stdev = pages.ewm(span=span).std()\n",
    "    ub = midband + stdev*weight\n",
    "    lb = midband - stdev*weight\n",
    "    bb = pd.concat([ub, lb], axis=1)\n",
    "    my_df = pd.concat([pages, midband, bb], axis=1)\n",
    "    my_df.columns = ['pages', 'midband', 'ub', 'lb']\n",
    "    my_df['pct_b'] = (my_df['pages'] - my_df['lb'])/(my_df['ub'] - my_df['lb'])\n",
    "    my_df['user_id'] = user\n",
    "    return my_df\n",
    "\n",
    "def prep(df, user):\n",
    "    df = df[df.id == user]\n",
    "    df.date = pd.to_datetime(df.date)\n",
    "    df = df.set_index(df.date)\n",
    "    pages = df['page'].resample('d').count()\n",
    "    return pages\n",
    "\n",
    "def plt_bands(my_df, user):\n",
    "    fig, ax = plt.subplots(figsize=(12,8))\n",
    "    ax.plot(my_df.index, my_df.pages, label='Number of Pages, User: '+str(user))\n",
    "    ax.plot(my_df.index, my_df.midband, label = 'EMA/midband')\n",
    "    ax.plot(my_df.index, my_df.ub, label = 'Upper Band')\n",
    "    ax.plot(my_df.index, my_df.lb, label = 'Lower Band')\n",
    "    ax.legend(loc='best')\n",
    "    ax.set_ylabel('Number of Pages')\n",
    "    plt.show()\n",
    "\n",
    "def find_anom(df, user, span, weight):\n",
    "    pages = prep(df, user)\n",
    "    my_df = compute_pct_b(pages, span, weight, user)\n",
    "    # plt_bands(my_df, user)\n",
    "    return my_df[my_df.pct_b>1]"
   ]
  },
  {
   "cell_type": "code",
   "execution_count": 198,
   "id": "80e1f25b",
   "metadata": {},
   "outputs": [],
   "source": []
  },
  {
   "cell_type": "code",
   "execution_count": 201,
   "id": "1d2e15c5",
   "metadata": {},
   "outputs": [],
   "source": [
    "span = 30\n",
    "weight = 3.5\n",
    "anom = pd.DataFrame()\n",
    "for u in list(df.id.unique()):\n",
    "    user_df = find_anom(df, u, span, weight)\n",
    "    anom = pd.concat([anom, user_df], axis=0)"
   ]
  },
  {
   "cell_type": "code",
   "execution_count": 258,
   "id": "40ba70db",
   "metadata": {},
   "outputs": [],
   "source": [
    "views = anom.pages.value_counts(sort=False)"
   ]
  },
  {
   "cell_type": "code",
   "execution_count": null,
   "id": "3880821b",
   "metadata": {},
   "outputs": [],
   "source": []
  },
  {
   "cell_type": "code",
   "execution_count": 270,
   "id": "8d85cfb9",
   "metadata": {},
   "outputs": [
    {
     "data": {
      "text/html": [
       "<div>\n",
       "<style scoped>\n",
       "    .dataframe tbody tr th:only-of-type {\n",
       "        vertical-align: middle;\n",
       "    }\n",
       "\n",
       "    .dataframe tbody tr th {\n",
       "        vertical-align: top;\n",
       "    }\n",
       "\n",
       "    .dataframe thead th {\n",
       "        text-align: right;\n",
       "    }\n",
       "</style>\n",
       "<table border=\"1\" class=\"dataframe\">\n",
       "  <thead>\n",
       "    <tr style=\"text-align: right;\">\n",
       "      <th></th>\n",
       "      <th>pages</th>\n",
       "      <th>midband</th>\n",
       "      <th>ub</th>\n",
       "      <th>lb</th>\n",
       "      <th>pct_b</th>\n",
       "      <th>user_id</th>\n",
       "    </tr>\n",
       "    <tr>\n",
       "      <th>date</th>\n",
       "      <th></th>\n",
       "      <th></th>\n",
       "      <th></th>\n",
       "      <th></th>\n",
       "      <th></th>\n",
       "      <th></th>\n",
       "    </tr>\n",
       "  </thead>\n",
       "  <tbody>\n",
       "    <tr>\n",
       "      <th>2018-06-02</th>\n",
       "      <td>198</td>\n",
       "      <td>16.484863</td>\n",
       "      <td>188.766965</td>\n",
       "      <td>-155.797239</td>\n",
       "      <td>1.026796</td>\n",
       "      <td>138</td>\n",
       "    </tr>\n",
       "  </tbody>\n",
       "</table>\n",
       "</div>"
      ],
      "text/plain": [
       "            pages    midband          ub          lb     pct_b  user_id\n",
       "date                                                                   \n",
       "2018-06-02    198  16.484863  188.766965 -155.797239  1.026796      138"
      ]
     },
     "execution_count": 270,
     "metadata": {},
     "output_type": "execute_result"
    }
   ],
   "source": [
    "anom[anom.pages == 198]"
   ]
  },
  {
   "cell_type": "code",
   "execution_count": 275,
   "id": "0c2fcbc6",
   "metadata": {},
   "outputs": [
    {
     "data": {
      "text/html": [
       "<div>\n",
       "<style scoped>\n",
       "    .dataframe tbody tr th:only-of-type {\n",
       "        vertical-align: middle;\n",
       "    }\n",
       "\n",
       "    .dataframe tbody tr th {\n",
       "        vertical-align: top;\n",
       "    }\n",
       "\n",
       "    .dataframe thead th {\n",
       "        text-align: right;\n",
       "    }\n",
       "</style>\n",
       "<table border=\"1\" class=\"dataframe\">\n",
       "  <thead>\n",
       "    <tr style=\"text-align: right;\">\n",
       "      <th></th>\n",
       "      <th>time</th>\n",
       "      <th>page</th>\n",
       "      <th>id</th>\n",
       "      <th>cohort</th>\n",
       "      <th>ip</th>\n",
       "      <th>start_date</th>\n",
       "      <th>end_date</th>\n",
       "      <th>program_id</th>\n",
       "      <th>active</th>\n",
       "    </tr>\n",
       "    <tr>\n",
       "      <th>date</th>\n",
       "      <th></th>\n",
       "      <th></th>\n",
       "      <th></th>\n",
       "      <th></th>\n",
       "      <th></th>\n",
       "      <th></th>\n",
       "      <th></th>\n",
       "      <th></th>\n",
       "      <th></th>\n",
       "    </tr>\n",
       "  </thead>\n",
       "  <tbody>\n",
       "    <tr>\n",
       "      <th>2018-03-09</th>\n",
       "      <td>09:33:19</td>\n",
       "      <td>slides/annotations</td>\n",
       "      <td>138</td>\n",
       "      <td>22.0</td>\n",
       "      <td>97.105.19.61</td>\n",
       "      <td>2018-01-08</td>\n",
       "      <td>2018-05-17</td>\n",
       "      <td>2.0</td>\n",
       "      <td>1</td>\n",
       "    </tr>\n",
       "    <tr>\n",
       "      <th>2018-03-09</th>\n",
       "      <td>09:36:13</td>\n",
       "      <td>java-ii/annotations</td>\n",
       "      <td>138</td>\n",
       "      <td>22.0</td>\n",
       "      <td>97.105.19.61</td>\n",
       "      <td>2018-01-08</td>\n",
       "      <td>2018-05-17</td>\n",
       "      <td>2.0</td>\n",
       "      <td>1</td>\n",
       "    </tr>\n",
       "    <tr>\n",
       "      <th>2018-03-09</th>\n",
       "      <td>09:45:18</td>\n",
       "      <td>mkdocs/search_index.json</td>\n",
       "      <td>138</td>\n",
       "      <td>22.0</td>\n",
       "      <td>97.105.19.61</td>\n",
       "      <td>2018-01-08</td>\n",
       "      <td>2018-05-17</td>\n",
       "      <td>2.0</td>\n",
       "      <td>1</td>\n",
       "    </tr>\n",
       "    <tr>\n",
       "      <th>2018-03-09</th>\n",
       "      <td>09:45:33</td>\n",
       "      <td>appendix</td>\n",
       "      <td>138</td>\n",
       "      <td>22.0</td>\n",
       "      <td>97.105.19.61</td>\n",
       "      <td>2018-01-08</td>\n",
       "      <td>2018-05-17</td>\n",
       "      <td>2.0</td>\n",
       "      <td>1</td>\n",
       "    </tr>\n",
       "    <tr>\n",
       "      <th>2018-03-09</th>\n",
       "      <td>09:45:39</td>\n",
       "      <td>appendix/git/intellij</td>\n",
       "      <td>138</td>\n",
       "      <td>22.0</td>\n",
       "      <td>97.105.19.61</td>\n",
       "      <td>2018-01-08</td>\n",
       "      <td>2018-05-17</td>\n",
       "      <td>2.0</td>\n",
       "      <td>1</td>\n",
       "    </tr>\n",
       "    <tr>\n",
       "      <th>...</th>\n",
       "      <td>...</td>\n",
       "      <td>...</td>\n",
       "      <td>...</td>\n",
       "      <td>...</td>\n",
       "      <td>...</td>\n",
       "      <td>...</td>\n",
       "      <td>...</td>\n",
       "      <td>...</td>\n",
       "      <td>...</td>\n",
       "    </tr>\n",
       "    <tr>\n",
       "      <th>2018-05-09</th>\n",
       "      <td>17:17:29</td>\n",
       "      <td>spring/extra-features/form-validation</td>\n",
       "      <td>138</td>\n",
       "      <td>22.0</td>\n",
       "      <td>97.105.19.61</td>\n",
       "      <td>2018-01-08</td>\n",
       "      <td>2018-05-17</td>\n",
       "      <td>2.0</td>\n",
       "      <td>1</td>\n",
       "    </tr>\n",
       "    <tr>\n",
       "      <th>2018-05-10</th>\n",
       "      <td>00:05:25</td>\n",
       "      <td>/</td>\n",
       "      <td>138</td>\n",
       "      <td>22.0</td>\n",
       "      <td>108.65.244.91</td>\n",
       "      <td>2018-01-08</td>\n",
       "      <td>2018-05-17</td>\n",
       "      <td>2.0</td>\n",
       "      <td>1</td>\n",
       "    </tr>\n",
       "    <tr>\n",
       "      <th>2018-05-10</th>\n",
       "      <td>10:11:07</td>\n",
       "      <td>appendix/capstone-workbook</td>\n",
       "      <td>138</td>\n",
       "      <td>22.0</td>\n",
       "      <td>97.105.19.61</td>\n",
       "      <td>2018-01-08</td>\n",
       "      <td>2018-05-17</td>\n",
       "      <td>2.0</td>\n",
       "      <td>1</td>\n",
       "    </tr>\n",
       "    <tr>\n",
       "      <th>2018-05-10</th>\n",
       "      <td>13:55:13</td>\n",
       "      <td>mkdocs/search_index.json</td>\n",
       "      <td>138</td>\n",
       "      <td>22.0</td>\n",
       "      <td>97.105.19.61</td>\n",
       "      <td>2018-01-08</td>\n",
       "      <td>2018-05-17</td>\n",
       "      <td>2.0</td>\n",
       "      <td>1</td>\n",
       "    </tr>\n",
       "    <tr>\n",
       "      <th>2018-05-10</th>\n",
       "      <td>14:13:32</td>\n",
       "      <td>spring/fundamentals/relationships</td>\n",
       "      <td>138</td>\n",
       "      <td>22.0</td>\n",
       "      <td>97.105.19.61</td>\n",
       "      <td>2018-01-08</td>\n",
       "      <td>2018-05-17</td>\n",
       "      <td>2.0</td>\n",
       "      <td>1</td>\n",
       "    </tr>\n",
       "  </tbody>\n",
       "</table>\n",
       "<p>904 rows × 9 columns</p>\n",
       "</div>"
      ],
      "text/plain": [
       "                time                                   page   id  cohort  \\\n",
       "date                                                                       \n",
       "2018-03-09  09:33:19                     slides/annotations  138    22.0   \n",
       "2018-03-09  09:36:13                    java-ii/annotations  138    22.0   \n",
       "2018-03-09  09:45:18               mkdocs/search_index.json  138    22.0   \n",
       "2018-03-09  09:45:33                               appendix  138    22.0   \n",
       "2018-03-09  09:45:39                  appendix/git/intellij  138    22.0   \n",
       "...              ...                                    ...  ...     ...   \n",
       "2018-05-09  17:17:29  spring/extra-features/form-validation  138    22.0   \n",
       "2018-05-10  00:05:25                                      /  138    22.0   \n",
       "2018-05-10  10:11:07             appendix/capstone-workbook  138    22.0   \n",
       "2018-05-10  13:55:13               mkdocs/search_index.json  138    22.0   \n",
       "2018-05-10  14:13:32      spring/fundamentals/relationships  138    22.0   \n",
       "\n",
       "                       ip start_date   end_date  program_id  active  \n",
       "date                                                                 \n",
       "2018-03-09   97.105.19.61 2018-01-08 2018-05-17         2.0       1  \n",
       "2018-03-09   97.105.19.61 2018-01-08 2018-05-17         2.0       1  \n",
       "2018-03-09   97.105.19.61 2018-01-08 2018-05-17         2.0       1  \n",
       "2018-03-09   97.105.19.61 2018-01-08 2018-05-17         2.0       1  \n",
       "2018-03-09   97.105.19.61 2018-01-08 2018-05-17         2.0       1  \n",
       "...                   ...        ...        ...         ...     ...  \n",
       "2018-05-09   97.105.19.61 2018-01-08 2018-05-17         2.0       1  \n",
       "2018-05-10  108.65.244.91 2018-01-08 2018-05-17         2.0       1  \n",
       "2018-05-10   97.105.19.61 2018-01-08 2018-05-17         2.0       1  \n",
       "2018-05-10   97.105.19.61 2018-01-08 2018-05-17         2.0       1  \n",
       "2018-05-10   97.105.19.61 2018-01-08 2018-05-17         2.0       1  \n",
       "\n",
       "[904 rows x 9 columns]"
      ]
     },
     "execution_count": 275,
     "metadata": {},
     "output_type": "execute_result"
    }
   ],
   "source": [
    "df[(df.id == 138) & (df.active==1)].set_index('date')"
   ]
  },
  {
   "cell_type": "code",
   "execution_count": 273,
   "id": "6e5b965b",
   "metadata": {},
   "outputs": [
    {
     "data": {
      "text/plain": [
       "<AxesSubplot:xlabel='date'>"
      ]
     },
     "execution_count": 273,
     "metadata": {},
     "output_type": "execute_result"
    },
    {
     "data": {
      "image/png": "[encoded data removed]",
      "text/plain": [
       "<Figure size 432x288 with 1 Axes>"
      ]
     },
     "metadata": {
      "needs_background": "light"
     },
     "output_type": "display_data"
    }
   ],
   "source": [
    "df[df.id==138].set_index('date').page.resample('d').count().plot()"
   ]
  },
  {
   "cell_type": "markdown",
   "id": "433b1d49",
   "metadata": {},
   "source": [
    "#### User 341 graduated in Jun 2019 and continued to access pages occaisionally afterwareds, but nothing too strange"
   ]
  },
  {
   "cell_type": "markdown",
   "id": "6773c74c",
   "metadata": {},
   "source": [
    "#### User 138 had almost 200 views in one day"
   ]
  },
  {
   "cell_type": "code",
   "execution_count": null,
   "id": "7ebfb112",
   "metadata": {},
   "outputs": [],
   "source": []
  },
  {
   "cell_type": "markdown",
   "id": "7c1c6e6e",
   "metadata": {},
   "source": [
    "# 5. At some point in 2019, the ability for students and alumni to access both curriculums (web dev to ds, ds to web dev) should have been shut off. Do you see any evidence of that happening? Did it happen before?\n"
   ]
  },
  {
   "cell_type": "code",
   "execution_count": 242,
   "id": "81f37cb5",
   "metadata": {},
   "outputs": [],
   "source": [
    "ds_ids = ds.id.unique()\n",
    "web_ids = web.id.unique()"
   ]
  },
  {
   "cell_type": "code",
   "execution_count": 245,
   "id": "2bcf2379",
   "metadata": {},
   "outputs": [],
   "source": [
    "both = list(set(ds_ids).intersection(web_ids))"
   ]
  },
  {
   "cell_type": "code",
   "execution_count": 249,
   "id": "ac4a774d",
   "metadata": {},
   "outputs": [],
   "source": [
    "both_df = df[df.id.isin(both)].set_index('date')"
   ]
  },
  {
   "cell_type": "code",
   "execution_count": 252,
   "id": "d2e2d39f",
   "metadata": {},
   "outputs": [
    {
     "data": {
      "image/png": "[encoded data removed]",
      "text/plain": [
       "<Figure size 432x288 with 1 Axes>"
      ]
     },
     "metadata": {
      "needs_background": "light"
     },
     "output_type": "display_data"
    },
    {
     "data": {
      "image/png": "[encoded data removed]",
      "text/plain": [
       "<Figure size 432x288 with 1 Axes>"
      ]
     },
     "metadata": {
      "needs_background": "light"
     },
     "output_type": "display_data"
    },
    {
     "data": {
      "image/png": "[encoded data removed]",
      "text/plain": [
       "<Figure size 432x288 with 1 Axes>"
      ]
     },
     "metadata": {
      "needs_background": "light"
     },
     "output_type": "display_data"
    },
    {
     "data": {
      "image/png": "[encoded data removed]",
      "text/plain": [
       "<Figure size 432x288 with 1 Axes>"
      ]
     },
     "metadata": {
      "needs_background": "light"
     },
     "output_type": "display_data"
    },
    {
     "data": {
      "image/png": "[encoded data removed]",
      "text/plain": [
       "<Figure size 432x288 with 1 Axes>"
      ]
     },
     "metadata": {
      "needs_background": "light"
     },
     "output_type": "display_data"
    }
   ],
   "source": [
    "for ids in both:\n",
    "    both_df[both_df.id == ids].page.resample('d').count().plot()\n",
    "    plt.title(f'ID# {ids}')\n",
    "    plt.show()\n",
    "    "
   ]
  },
  {
   "cell_type": "code",
   "execution_count": 253,
   "id": "9d6ddd8e",
   "metadata": {},
   "outputs": [
    {
     "data": {
      "text/html": [
       "<div>\n",
       "<style scoped>\n",
       "    .dataframe tbody tr th:only-of-type {\n",
       "        vertical-align: middle;\n",
       "    }\n",
       "\n",
       "    .dataframe tbody tr th {\n",
       "        vertical-align: top;\n",
       "    }\n",
       "\n",
       "    .dataframe thead th {\n",
       "        text-align: right;\n",
       "    }\n",
       "</style>\n",
       "<table border=\"1\" class=\"dataframe\">\n",
       "  <thead>\n",
       "    <tr style=\"text-align: right;\">\n",
       "      <th></th>\n",
       "      <th>time</th>\n",
       "      <th>page</th>\n",
       "      <th>id</th>\n",
       "      <th>cohort</th>\n",
       "      <th>ip</th>\n",
       "      <th>start_date</th>\n",
       "      <th>end_date</th>\n",
       "      <th>program_id</th>\n",
       "      <th>active</th>\n",
       "    </tr>\n",
       "    <tr>\n",
       "      <th>date</th>\n",
       "      <th></th>\n",
       "      <th></th>\n",
       "      <th></th>\n",
       "      <th></th>\n",
       "      <th></th>\n",
       "      <th></th>\n",
       "      <th></th>\n",
       "      <th></th>\n",
       "      <th></th>\n",
       "    </tr>\n",
       "  </thead>\n",
       "  <tbody>\n",
       "    <tr>\n",
       "      <th>2018-03-18</th>\n",
       "      <td>15:24:59</td>\n",
       "      <td>index.html</td>\n",
       "      <td>143</td>\n",
       "      <td>16.0</td>\n",
       "      <td>173.174.192.127</td>\n",
       "      <td>2016-10-26</td>\n",
       "      <td>2017-03-09</td>\n",
       "      <td>2.0</td>\n",
       "      <td>0</td>\n",
       "    </tr>\n",
       "    <tr>\n",
       "      <th>2018-03-18</th>\n",
       "      <td>15:25:01</td>\n",
       "      <td>mysql</td>\n",
       "      <td>143</td>\n",
       "      <td>16.0</td>\n",
       "      <td>173.174.192.127</td>\n",
       "      <td>2016-10-26</td>\n",
       "      <td>2017-03-09</td>\n",
       "      <td>2.0</td>\n",
       "      <td>0</td>\n",
       "    </tr>\n",
       "    <tr>\n",
       "      <th>2018-03-18</th>\n",
       "      <td>15:25:04</td>\n",
       "      <td>mysql/introduction</td>\n",
       "      <td>143</td>\n",
       "      <td>16.0</td>\n",
       "      <td>173.174.192.127</td>\n",
       "      <td>2016-10-26</td>\n",
       "      <td>2017-03-09</td>\n",
       "      <td>2.0</td>\n",
       "      <td>0</td>\n",
       "    </tr>\n",
       "    <tr>\n",
       "      <th>2018-03-18</th>\n",
       "      <td>15:25:05</td>\n",
       "      <td>mysql/users</td>\n",
       "      <td>143</td>\n",
       "      <td>16.0</td>\n",
       "      <td>173.174.192.127</td>\n",
       "      <td>2016-10-26</td>\n",
       "      <td>2017-03-09</td>\n",
       "      <td>2.0</td>\n",
       "      <td>0</td>\n",
       "    </tr>\n",
       "    <tr>\n",
       "      <th>2018-03-18</th>\n",
       "      <td>15:25:07</td>\n",
       "      <td>mysql/introduction</td>\n",
       "      <td>143</td>\n",
       "      <td>16.0</td>\n",
       "      <td>173.174.192.127</td>\n",
       "      <td>2016-10-26</td>\n",
       "      <td>2017-03-09</td>\n",
       "      <td>2.0</td>\n",
       "      <td>0</td>\n",
       "    </tr>\n",
       "    <tr>\n",
       "      <th>...</th>\n",
       "      <td>...</td>\n",
       "      <td>...</td>\n",
       "      <td>...</td>\n",
       "      <td>...</td>\n",
       "      <td>...</td>\n",
       "      <td>...</td>\n",
       "      <td>...</td>\n",
       "      <td>...</td>\n",
       "      <td>...</td>\n",
       "    </tr>\n",
       "    <tr>\n",
       "      <th>2021-04-21</th>\n",
       "      <td>11:09:42</td>\n",
       "      <td>python/advanced-dataframes</td>\n",
       "      <td>581</td>\n",
       "      <td>28.0</td>\n",
       "      <td>70.112.179.142</td>\n",
       "      <td>2014-02-04</td>\n",
       "      <td>2014-02-04</td>\n",
       "      <td>2.0</td>\n",
       "      <td>0</td>\n",
       "    </tr>\n",
       "    <tr>\n",
       "      <th>2021-04-21</th>\n",
       "      <td>11:13:36</td>\n",
       "      <td>python/dataframes</td>\n",
       "      <td>480</td>\n",
       "      <td>28.0</td>\n",
       "      <td>75.1.166.163</td>\n",
       "      <td>2014-02-04</td>\n",
       "      <td>2014-02-04</td>\n",
       "      <td>2.0</td>\n",
       "      <td>0</td>\n",
       "    </tr>\n",
       "    <tr>\n",
       "      <th>2021-04-21</th>\n",
       "      <td>11:13:39</td>\n",
       "      <td>python/series</td>\n",
       "      <td>480</td>\n",
       "      <td>28.0</td>\n",
       "      <td>75.1.166.163</td>\n",
       "      <td>2014-02-04</td>\n",
       "      <td>2014-02-04</td>\n",
       "      <td>2.0</td>\n",
       "      <td>0</td>\n",
       "    </tr>\n",
       "    <tr>\n",
       "      <th>2021-04-21</th>\n",
       "      <td>12:25:26</td>\n",
       "      <td>python/advanced-dataframes</td>\n",
       "      <td>480</td>\n",
       "      <td>28.0</td>\n",
       "      <td>75.1.166.163</td>\n",
       "      <td>2014-02-04</td>\n",
       "      <td>2014-02-04</td>\n",
       "      <td>2.0</td>\n",
       "      <td>0</td>\n",
       "    </tr>\n",
       "    <tr>\n",
       "      <th>2021-04-21</th>\n",
       "      <td>16:23:53</td>\n",
       "      <td>/</td>\n",
       "      <td>143</td>\n",
       "      <td>133.0</td>\n",
       "      <td>173.174.194.60</td>\n",
       "      <td>2020-12-07</td>\n",
       "      <td>2021-06-08</td>\n",
       "      <td>3.0</td>\n",
       "      <td>1</td>\n",
       "    </tr>\n",
       "  </tbody>\n",
       "</table>\n",
       "<p>12294 rows × 9 columns</p>\n",
       "</div>"
      ],
      "text/plain": [
       "                time                        page   id  cohort  \\\n",
       "date                                                            \n",
       "2018-03-18  15:24:59                  index.html  143    16.0   \n",
       "2018-03-18  15:25:01                       mysql  143    16.0   \n",
       "2018-03-18  15:25:04          mysql/introduction  143    16.0   \n",
       "2018-03-18  15:25:05                 mysql/users  143    16.0   \n",
       "2018-03-18  15:25:07          mysql/introduction  143    16.0   \n",
       "...              ...                         ...  ...     ...   \n",
       "2021-04-21  11:09:42  python/advanced-dataframes  581    28.0   \n",
       "2021-04-21  11:13:36           python/dataframes  480    28.0   \n",
       "2021-04-21  11:13:39               python/series  480    28.0   \n",
       "2021-04-21  12:25:26  python/advanced-dataframes  480    28.0   \n",
       "2021-04-21  16:23:53                           /  143   133.0   \n",
       "\n",
       "                         ip start_date   end_date  program_id  active  \n",
       "date                                                                   \n",
       "2018-03-18  173.174.192.127 2016-10-26 2017-03-09         2.0       0  \n",
       "2018-03-18  173.174.192.127 2016-10-26 2017-03-09         2.0       0  \n",
       "2018-03-18  173.174.192.127 2016-10-26 2017-03-09         2.0       0  \n",
       "2018-03-18  173.174.192.127 2016-10-26 2017-03-09         2.0       0  \n",
       "2018-03-18  173.174.192.127 2016-10-26 2017-03-09         2.0       0  \n",
       "...                     ...        ...        ...         ...     ...  \n",
       "2021-04-21   70.112.179.142 2014-02-04 2014-02-04         2.0       0  \n",
       "2021-04-21     75.1.166.163 2014-02-04 2014-02-04         2.0       0  \n",
       "2021-04-21     75.1.166.163 2014-02-04 2014-02-04         2.0       0  \n",
       "2021-04-21     75.1.166.163 2014-02-04 2014-02-04         2.0       0  \n",
       "2021-04-21   173.174.194.60 2020-12-07 2021-06-08         3.0       1  \n",
       "\n",
       "[12294 rows x 9 columns]"
      ]
     },
     "execution_count": 253,
     "metadata": {},
     "output_type": "execute_result"
    }
   ],
   "source": [
    "both_df"
   ]
  },
  {
   "cell_type": "code",
   "execution_count": null,
   "id": "0015769a",
   "metadata": {},
   "outputs": [],
   "source": []
  },
  {
   "cell_type": "code",
   "execution_count": null,
   "id": "5089cea2",
   "metadata": {},
   "outputs": [],
   "source": []
  },
  {
   "cell_type": "markdown",
   "id": "6c0ec5fe",
   "metadata": {},
   "source": [
    "# 6. What topics are grads continuing to reference after graduation and into their jobs (for each program)?\n"
   ]
  },
  {
   "cell_type": "code",
   "execution_count": 234,
   "id": "36e01111",
   "metadata": {},
   "outputs": [
    {
     "data": {
      "text/plain": [
       "/                                                               18547\n",
       "javascript-i                                                     5745\n",
       "search/search_index.json                                         5666\n",
       "spring                                                           4902\n",
       "html-css                                                         4186\n",
       "                                                                ...  \n",
       "users/913                                                           1\n",
       "bayes-capstones/html                                                1\n",
       "bayes-capstones                                                     1\n",
       "content/examples/php/arithmetic.php                                 1\n",
       "appendix/professional-development/post-interview-review-form        1\n",
       "Name: page, Length: 1925, dtype: int64"
      ]
     },
     "execution_count": 234,
     "metadata": {},
     "output_type": "execute_result"
    }
   ],
   "source": [
    "inactive[inactive.program_id != 3].page.value_counts()"
   ]
  },
  {
   "cell_type": "markdown",
   "id": "67b47782",
   "metadata": {},
   "source": [
    "#### For webdev the most common topics for graduates to reference are Javascript-i and spring"
   ]
  },
  {
   "cell_type": "code",
   "execution_count": 238,
   "id": "e9ac2b1f",
   "metadata": {},
   "outputs": [
    {
     "data": {
      "text/plain": [
       "/                                           1436\n",
       "search/search_index.json                     493\n",
       "sql/mysql-overview                           275\n",
       "classification/overview                      266\n",
       "classification/scale_features_or_not.svg     219\n",
       "                                            ... \n",
       "DataToAction_v2.jpg                            1\n",
       "advanced-topics/tidy-data                      1\n",
       "10-anomaly-detection/isolation-forests         1\n",
       "cli/moving-files                               1\n",
       "individual-project/individual-project          1\n",
       "Name: page, Length: 437, dtype: int64"
      ]
     },
     "execution_count": 238,
     "metadata": {},
     "output_type": "execute_result"
    }
   ],
   "source": [
    "inactive[inactive.program_id == 3].page.value_counts()"
   ]
  },
  {
   "cell_type": "markdown",
   "id": "0a27b154",
   "metadata": {},
   "source": [
    "#### For Data Science the most common topics for graduates to reference are sql and classification"
   ]
  },
  {
   "cell_type": "markdown",
   "id": "e6ff4f53",
   "metadata": {},
   "source": [
    "# 7. Which lessons are least accessed? \n"
   ]
  },
  {
   "cell_type": "code",
   "execution_count": 230,
   "id": "bbdb965d",
   "metadata": {},
   "outputs": [
    {
     "data": {
      "text/plain": [
       "5-stats/2.1-probability_and_event_interactions                  1\n",
       "DataSets_SaaSCustomerChurn                                      1\n",
       "8_ts_split                                                      1\n",
       "merge_Ensemble                                                  1\n",
       "python/custom-sorting-functions                                 1\n",
       "                                                               ..\n",
       "javascript/loops                                                1\n",
       "content/control-structures-ii                                   1\n",
       "javascript-ii/promisesdfghjkjhgfs                               1\n",
       "app                                                             1\n",
       "appendix/professional-development/post-interview-review-form    1\n",
       "Name: page, Length: 100, dtype: int64"
      ]
     },
     "execution_count": 230,
     "metadata": {},
     "output_type": "execute_result"
    }
   ],
   "source": [
    "df.page.value_counts().tail"
   ]
  },
  {
   "cell_type": "code",
   "execution_count": 18,
   "id": "df3f370b",
   "metadata": {},
   "outputs": [],
   "source": [
    "counts = pd.DataFrame(df.page.value_counts())"
   ]
  },
  {
   "cell_type": "code",
   "execution_count": 20,
   "id": "b98f33cf",
   "metadata": {},
   "outputs": [
    {
     "data": {
      "text/html": [
       "<div>\n",
       "<style scoped>\n",
       "    .dataframe tbody tr th:only-of-type {\n",
       "        vertical-align: middle;\n",
       "    }\n",
       "\n",
       "    .dataframe tbody tr th {\n",
       "        vertical-align: top;\n",
       "    }\n",
       "\n",
       "    .dataframe thead th {\n",
       "        text-align: right;\n",
       "    }\n",
       "</style>\n",
       "<table border=\"1\" class=\"dataframe\">\n",
       "  <thead>\n",
       "    <tr style=\"text-align: right;\">\n",
       "      <th></th>\n",
       "      <th>page</th>\n",
       "    </tr>\n",
       "  </thead>\n",
       "  <tbody>\n",
       "    <tr>\n",
       "      <th>appendix/open_data/www.flickr.com/services/api</th>\n",
       "      <td>1</td>\n",
       "    </tr>\n",
       "    <tr>\n",
       "      <th>capstone/53</th>\n",
       "      <td>1</td>\n",
       "    </tr>\n",
       "    <tr>\n",
       "      <th>java-iii/jdbc/poop</th>\n",
       "      <td>1</td>\n",
       "    </tr>\n",
       "    <tr>\n",
       "      <th>capstone/52</th>\n",
       "      <td>1</td>\n",
       "    </tr>\n",
       "    <tr>\n",
       "      <th>bom-and-dom/dom-events</th>\n",
       "      <td>1</td>\n",
       "    </tr>\n",
       "    <tr>\n",
       "      <th>...</th>\n",
       "      <td>...</td>\n",
       "    </tr>\n",
       "    <tr>\n",
       "      <th>javascript/loops</th>\n",
       "      <td>1</td>\n",
       "    </tr>\n",
       "    <tr>\n",
       "      <th>content/control-structures-ii</th>\n",
       "      <td>1</td>\n",
       "    </tr>\n",
       "    <tr>\n",
       "      <th>javascript-ii/promisesdfghjkjhgfs</th>\n",
       "      <td>1</td>\n",
       "    </tr>\n",
       "    <tr>\n",
       "      <th>app</th>\n",
       "      <td>1</td>\n",
       "    </tr>\n",
       "    <tr>\n",
       "      <th>appendix/professional-development/post-interview-review-form</th>\n",
       "      <td>1</td>\n",
       "    </tr>\n",
       "  </tbody>\n",
       "</table>\n",
       "<p>457 rows × 1 columns</p>\n",
       "</div>"
      ],
      "text/plain": [
       "                                                    page\n",
       "appendix/open_data/www.flickr.com/services/api         1\n",
       "capstone/53                                            1\n",
       "java-iii/jdbc/poop                                     1\n",
       "capstone/52                                            1\n",
       "bom-and-dom/dom-events                                 1\n",
       "...                                                  ...\n",
       "javascript/loops                                       1\n",
       "content/control-structures-ii                          1\n",
       "javascript-ii/promisesdfghjkjhgfs                      1\n",
       "app                                                    1\n",
       "appendix/professional-development/post-intervie...     1\n",
       "\n",
       "[457 rows x 1 columns]"
      ]
     },
     "execution_count": 20,
     "metadata": {},
     "output_type": "execute_result"
    }
   ],
   "source": [
    "counts[counts.page == 1]"
   ]
  },
  {
   "cell_type": "code",
   "execution_count": null,
   "id": "89cd0cb8",
   "metadata": {},
   "outputs": [],
   "source": []
  }
 ],
 "metadata": {
  "kernelspec": {
   "display_name": "Python 3 (ipykernel)",
   "language": "python",
   "name": "python3"
  },
  "language_info": {
   "codemirror_mode": {
    "name": "ipython",
    "version": 3
   },
   "file_extension": ".py",
   "mimetype": "text/x-python",
   "name": "python",
   "nbconvert_exporter": "python",
   "pygments_lexer": "ipython3",
   "version": "3.9.12"
  }
 },
 "nbformat": 4,
 "nbformat_minor": 5
}
